{
 "cells": [
  {
   "cell_type": "code",
   "execution_count": 1,
   "metadata": {
    "collapsed": true
   },
   "outputs": [],
   "source": [
    "import sys\n",
    "sys.path.append(\"../src\")"
   ]
  },
  {
   "cell_type": "code",
   "execution_count": null,
   "metadata": {},
   "outputs": [
    {
     "name": "stderr",
     "output_type": "stream",
     "text": [
      "Using TensorFlow backend.\n"
     ]
    }
   ],
   "source": [
    "from model import UnetModel\n",
    "from skimage.io import imshow\n",
    "%matplotlib inline"
   ]
  },
  {
   "cell_type": "code",
   "execution_count": null,
   "metadata": {
    "scrolled": true
   },
   "outputs": [
    {
     "name": "stderr",
     "output_type": "stream",
     "text": [
      "../src/unet.py:64: UserWarning: Update your `Model` call to the Keras 2 API: `Model(outputs=Tensor(\"ac..., inputs=Tensor(\"in...)`\n",
      "  model = Model(input=inputs, outputs=conv12)\n"
     ]
    },
    {
     "name": "stdout",
     "output_type": "stream",
     "text": [
      "Size = (512, 512), batch size = 4\n"
     ]
    },
    {
     "name": "stderr",
     "output_type": "stream",
     "text": [
      "../src/model.py:53: UserWarning: Update your `fit_generator` call to the Keras 2 API: `fit_generator(<generator..., steps_per_epoch=800, validation_data=<generator..., validation_steps=800, callbacks=[<callback..., epochs=50)`\n",
      "  callbacks=self.callbacks)\n"
     ]
    },
    {
     "name": "stdout",
     "output_type": "stream",
     "text": [
      "Epoch 1/50\n",
      "799/800 [============================>.] - ETA: 0s - loss: 0.0410 - dice_coef: 0.9153Epoch 00000: val_dice_coef improved from -inf to 0.81539, saving model to unet__(512, 512)_4_1.best.weights.h5py\n",
      "800/800 [==============================] - 979s - loss: 0.0410 - dice_coef: 0.9153 - val_loss: 0.1345 - val_dice_coef: 0.8154\n",
      "Epoch 2/50\n",
      "760/800 [===========================>..] - ETA: 37s - loss: 0.0356 - dice_coef: 0.9237"
     ]
    }
   ],
   "source": [
    "if True:\n",
    "    losses = []\n",
    "    for size in [(512, 512), (128, 128), (256, 256)]:\n",
    "        for batch_size in [4, 32, 16]:\n",
    "            for fold_num in range(1, 2):\n",
    "                batches = 32 * 100 // batch_size\n",
    "                model = UnetModel(f\"unet__{size}_{batch_size}_{fold_num}\", input_size=size, patience=10)\n",
    "                model.unet.load_weights(\"./unet__(224, 224)_8_1.best.weights.h5py\")\n",
    "                print(f\"Size = {size}, batch size = {batch_size}\")\n",
    "                learn_rates = [0.0001, 0.00001, 0.000001]\n",
    "                epochs_list = [50, 50, 50]\n",
    "\n",
    "                for lr, epochs in zip(learn_rates, epochs_list):\n",
    "                    train_loss, val_loss = model.fit_resized(lr, epochs, fold_num, batch_size=batch_size, batches=batches)\n",
    "                losses.append((train_loss, val_loss))"
   ]
  },
  {
   "cell_type": "code",
   "execution_count": null,
   "metadata": {},
   "outputs": [],
   "source": [
    "img_size = (512, 512)\n",
    "model = UnetModel(\"prediction\", input_size=img_size)\n",
    "model.unet.load_weights(f\"./unet__{img_size}_4_1.best.weights.h5py\")\n",
    "from generator import train_generator_resized, valid_generator_resized\n",
    "batch = next(valid_generator_resized(n_fold=1, size=img_size, batch_size=2))"
   ]
  },
  {
   "cell_type": "code",
   "execution_count": null,
   "metadata": {},
   "outputs": [],
   "source": [
    "imshow(model.unet.predict(batch[0])[0].squeeze() * 255)"
   ]
  },
  {
   "cell_type": "code",
   "execution_count": null,
   "metadata": {},
   "outputs": [],
   "source": [
    "imshow(batch[1][0].squeeze().astype('uint8'))"
   ]
  },
  {
   "cell_type": "code",
   "execution_count": null,
   "metadata": {},
   "outputs": [],
   "source": [
    "from predictor import Predictor\n",
    "predictor = Predictor(model.unet)\n",
    "predictor.create_resized_submission(img_size)"
   ]
  },
  {
   "cell_type": "code",
   "execution_count": null,
   "metadata": {
    "collapsed": true
   },
   "outputs": [],
   "source": []
  }
 ],
 "metadata": {
  "kernelspec": {
   "display_name": "Python 3",
   "language": "python",
   "name": "python3"
  },
  "language_info": {
   "codemirror_mode": {
    "name": "ipython",
    "version": 3
   },
   "file_extension": ".py",
   "mimetype": "text/x-python",
   "name": "python",
   "nbconvert_exporter": "python",
   "pygments_lexer": "ipython3",
   "version": "3.6.1"
  }
 },
 "nbformat": 4,
 "nbformat_minor": 1
}
